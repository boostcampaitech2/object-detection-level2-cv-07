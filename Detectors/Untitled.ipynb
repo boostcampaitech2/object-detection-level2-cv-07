{
 "cells": [
  {
   "cell_type": "code",
   "execution_count": 6,
   "metadata": {},
   "outputs": [],
   "source": [
    "import cv2\n",
    "import numpy as np\n",
    "import time \n",
    "import os, glob\n",
    "from PIL import Image\n",
    "from skimage import morphology\n",
    "import matplotlib.pyplot as plt \n",
    "import random\n",
    "import matplotlib.pyplot as plt\n",
    "import pickle\n",
    "\n",
    "plt.style.use(['seaborn-white']) # 테마 설정"
   ]
  },
  {
   "cell_type": "code",
   "execution_count": 1,
   "metadata": {},
   "outputs": [],
   "source": [
    "base_path = './dataset/train'\n",
    "file_lists = os.listdir(base_path)"
   ]
  },
  {
   "cell_type": "code",
   "execution_count": 4,
   "metadata": {},
   "outputs": [],
   "source": [
    "def f(x):\n",
    "    return base_path+'/'+x\n",
    "file_lists=list(map(f,file_lists))\n",
    "file_lists"
   ]
  },
  {
   "cell_type": "code",
   "execution_count": 7,
   "metadata": {},
   "outputs": [
    {
     "data": {
      "text/plain": "4883"
     },
     "execution_count": 7,
     "metadata": {},
     "output_type": "execute_result"
    }
   ],
   "source": [
    "def array_mean(img):\n",
    "    return (img[:,:,0].mean(),img[:,:,1].mean(),img[:,:,2].mean())\n",
    "def array_std(img):\n",
    "    return (img[:,:,0].std(),img[:,:,1].std(),img[:,:,2].std())\n",
    "\n",
    "def set_plus(s1,s2):\n",
    "    return (s1[0]+s2[0],s1[1]+s2[1],s1[2]+s2[2])\n",
    "def set_div(s1,num):\n",
    "    return (s1[0]/num,s1[1]/num,s1[2]/num)\n",
    "\n",
    "result_mean=(0,0,0)\n",
    "result_std=(0,0,0)\n",
    "for file_list in file_lists:\n",
    "    img = np.array(Image.open(file_list))\n",
    "    result_mean = set_plus(result_mean,array_mean(img))\n",
    "    result_std = set_plus(result_std,array_std(img))\n"
   ]
  },
  {
   "cell_type": "code",
   "execution_count": 8,
   "metadata": {},
   "outputs": [
    {
     "data": {
      "text/plain": "(123.65066969592431, 117.39730243147726, 110.07542562553098)"
     },
     "execution_count": 8,
     "metadata": {},
     "output_type": "execute_result"
    }
   ],
   "source": [
    "set_div(result_mean,len(file_lists))"
   ]
  },
  {
   "cell_type": "code",
   "execution_count": 9,
   "metadata": {},
   "outputs": [
    {
     "data": {
      "text/plain": "(54.03457933505745, 53.36968771230474, 54.78390763226521)"
     },
     "execution_count": 9,
     "metadata": {},
     "output_type": "execute_result"
    }
   ],
   "source": [
    "set_div(result_std,len(file_lists))"
   ]
  }
 ],
 "metadata": {
  "kernelspec": {
   "display_name": "detection",
   "language": "python",
   "name": "detection"
  },
  "language_info": {
   "codemirror_mode": {
    "name": "ipython",
    "version": 3
   },
   "file_extension": ".py",
   "mimetype": "text/x-python",
   "name": "python",
   "nbconvert_exporter": "python",
   "pygments_lexer": "ipython3",
   "version": "3.7.11"
  }
 },
 "nbformat": 4,
 "nbformat_minor": 5
}