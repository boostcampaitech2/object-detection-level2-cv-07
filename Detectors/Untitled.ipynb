{
 "cells": [
  {
   "cell_type": "code",
   "execution_count": 1,
   "id": "0211dfcb-2581-45f0-ac92-167cedcf775a",
   "metadata": {},
   "outputs": [],
   "source": [
    "x = None"
   ]
  },
  {
   "cell_type": "code",
   "execution_count": 3,
   "id": "04ebfb7b-61b4-4571-9f0f-f5d84699183b",
   "metadata": {},
   "outputs": [
    {
     "name": "stdout",
     "output_type": "stream",
     "text": [
      "123\n"
     ]
    }
   ],
   "source": [
    "x=1024\n",
    "if x:\n",
    "    print(123)"
   ]
  },
  {
   "cell_type": "code",
   "execution_count": 4,
   "id": "415fb747-822c-4c6f-97fd-bfa2ac395fec",
   "metadata": {},
   "outputs": [],
   "source": [
    "x=None\n",
    "if x:\n",
    "    print(123)"
   ]
  },
  {
   "cell_type": "code",
   "execution_count": null,
   "id": "ab77151e-0f74-42da-9476-dc46e0e53ece",
   "metadata": {},
   "outputs": [],
   "source": []
  }
 ],
 "metadata": {
  "kernelspec": {
   "display_name": "detection",
   "language": "python",
   "name": "detection"
  },
  "language_info": {
   "codemirror_mode": {
    "name": "ipython",
    "version": 3
   },
   "file_extension": ".py",
   "mimetype": "text/x-python",
   "name": "python",
   "nbconvert_exporter": "python",
   "pygments_lexer": "ipython3",
   "version": "3.7.11"
  }
 },
 "nbformat": 4,
 "nbformat_minor": 5
}
