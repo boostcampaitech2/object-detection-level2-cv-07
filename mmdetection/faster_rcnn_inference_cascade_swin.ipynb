{
 "cells": [
  {
   "cell_type": "code",
   "execution_count": 1,
   "source": [
    "import mmcv\n",
    "from mmcv import Config\n",
    "from mmdet.datasets import (build_dataloader, build_dataset,\n",
    "                            replace_ImageToTensor)\n",
    "from mmdet.models import build_detector\n",
    "from mmdet.apis import single_gpu_test\n",
    "from mmcv.runner import load_checkpoint\n",
    "import os\n",
    "from mmcv.parallel import MMDataParallel\n",
    "import pandas as pd\n",
    "from pandas import DataFrame\n",
    "from pycocotools.coco import COCO\n",
    "import numpy as np"
   ],
   "outputs": [],
   "metadata": {}
  },
  {
   "cell_type": "code",
   "execution_count": 2,
   "source": [
    "classes = (\"General trash\", \"Paper\", \"Paper pack\", \"Metal\", \"Glass\", \n",
    "           \"Plastic\", \"Styrofoam\", \"Plastic bag\", \"Battery\", \"Clothing\")\n",
    "\n",
    "# config file 들고오기\n",
    "cfg = Config.fromfile('./configs/_base_/my_train/cascade_rcnn_swin-t-p4-w7_fpn_40epo_coco.py')\n",
    "\n",
    "# root='../dataset/'\n",
    "\n",
    "# epoch = 'epoch_9'\n",
    "\n",
    "# # dataset config 수정\n",
    "# cfg.data.test.classes = classes\n",
    "# cfg.data.test.img_prefix = root\n",
    "# cfg.data.test.ann_file = root + 'test.json'\n",
    "# cfg.data.test.pipeline[1]['img_scale'] = (512,512) # Resize\n",
    "# cfg.data.test.test_mode = True\n",
    "\n",
    "# cfg.data.samples_per_gpu = 4\n",
    "\n",
    "# cfg.seed=2021\n",
    "# cfg.gpu_ids = [1]\n",
    "# cfg.work_dir = './work_dirs/cascade_rcnn_x101_32x4d_fpn_1x_trash'\n",
    "\n",
    "# cfg.model.roi_head.bbox_head[0].num_classes = 10\n",
    "# cfg.model.roi_head.bbox_head[1].num_classes = 10\n",
    "# cfg.model.roi_head.bbox_head[2].num_classes = 10\n",
    "\n",
    "# cfg.optimizer_config.grad_clip = dict(max_norm=35, norm_type=2)\n",
    "# cfg.model.train_cfg = None"
   ],
   "outputs": [],
   "metadata": {}
  },
  {
   "cell_type": "code",
   "execution_count": 6,
   "source": [
    "# root='../dataset/'\n",
    "\n",
    "# dataset config 수정\n",
    "# cfg.optimizer.type='Adam'\n",
    "# cfg.optimizer.lr=0.00001\n",
    "# del(cfg.optimizer.momentum)\n",
    "\n",
    "# cfg.data.train.classes = classes\n",
    "# cfg.data.train.img_prefix = root\n",
    "# cfg.data.train.ann_file = root + 'train.json' # train json 정보\n",
    "# cfg.data.train.pipeline[2]['img_scale'] = (512,512) # Resize\n",
    "\n",
    "# cfg.data.test.classes = classes\n",
    "# cfg.data.test.img_prefix = root\n",
    "# cfg.data.test.ann_file = root + 'test.json' # test json 정보\n",
    "# cfg.data.test.pipeline[1]['img_scale'] = (512,512) # Resize\n",
    "\n",
    "# cfg.data.samples_per_gpu = 4\n",
    "\n",
    "epoch = 'epoch_12'\n",
    "\n",
    "cfg.seed = 2021\n",
    "cfg.gpu_ids = [0]\n",
    "cfg.work_dir = './work_dirs/cascade_rcnn_x101_64x4d_swin-t-p4-w7_fpn_40epo_coco_sgd2.py'\n",
    "\n",
    "cfg.model.roi_head.bbox_head[0].num_classes = 10\n",
    "cfg.model.roi_head.bbox_head[1].num_classes = 10\n",
    "cfg.model.roi_head.bbox_head[2].num_classes = 10\n",
    "\n",
    "cfg.optimizer_config.grad_clip = dict(max_norm=35, norm_type=2)\n",
    "cfg.model.train_cfg = None"
   ],
   "outputs": [],
   "metadata": {}
  },
  {
   "cell_type": "code",
   "execution_count": 7,
   "source": [
    "# build dataset & dataloader\n",
    "dataset = build_dataset(cfg.data.test)\n",
    "data_loader = build_dataloader(\n",
    "        dataset,\n",
    "        samples_per_gpu=1,\n",
    "        workers_per_gpu=cfg.data.workers_per_gpu,\n",
    "        dist=False,\n",
    "        shuffle=False)"
   ],
   "outputs": [
    {
     "output_type": "stream",
     "name": "stdout",
     "text": [
      "loading annotations into memory...\n",
      "Done (t=0.02s)\n",
      "creating index...\n",
      "index created!\n"
     ]
    }
   ],
   "metadata": {}
  },
  {
   "cell_type": "code",
   "execution_count": 8,
   "source": [
    "# checkpoint path\n",
    "checkpoint_path = os.path.join(cfg.work_dir, f'{epoch}.pth')\n",
    "\n",
    "model = build_detector(cfg.model, test_cfg=cfg.get('test_cfg')) # build detector\n",
    "checkpoint = load_checkpoint(model, checkpoint_path, map_location='cpu') # ckpt load\n",
    "\n",
    "model.CLASSES = dataset.CLASSES\n",
    "model = MMDataParallel(model.cuda(), device_ids=[0])"
   ],
   "outputs": [
    {
     "output_type": "stream",
     "name": "stderr",
     "text": [
      "/opt/ml/github/mmdetection/mmdet/core/anchor/builder.py:16: UserWarning: ``build_anchor_generator`` would be deprecated soon, please use ``build_prior_generator`` \n",
      "  '``build_anchor_generator`` would be deprecated soon, please use '\n"
     ]
    },
    {
     "output_type": "stream",
     "name": "stdout",
     "text": [
      "Use load_from_local loader\n"
     ]
    }
   ],
   "metadata": {}
  },
  {
   "cell_type": "code",
   "execution_count": 9,
   "source": [
    "output = single_gpu_test(model, data_loader, show_score_thr=0.05) # output 계산"
   ],
   "outputs": [
    {
     "output_type": "stream",
     "name": "stdout",
     "text": [
      "[                                ] 2/4871, 2.3 task/s, elapsed: 1s, ETA:  2082s"
     ]
    },
    {
     "output_type": "stream",
     "name": "stderr",
     "text": [
      "/opt/ml/github/mmdetection/mmdet/core/anchor/anchor_generator.py:323: UserWarning: ``grid_anchors`` would be deprecated soon. Please use ``grid_priors`` \n",
      "  warnings.warn('``grid_anchors`` would be deprecated soon. '\n",
      "/opt/ml/github/mmdetection/mmdet/core/anchor/anchor_generator.py:360: UserWarning: ``single_level_grid_anchors`` would be deprecated soon. Please use ``single_level_grid_priors`` \n",
      "  '``single_level_grid_anchors`` would be deprecated soon. '\n"
     ]
    },
    {
     "output_type": "stream",
     "name": "stdout",
     "text": [
      "[>>>                         ] 630/4871, 12.3 task/s, elapsed: 51s, ETA:   346s"
     ]
    }
   ],
   "metadata": {}
  },
  {
   "cell_type": "code",
   "execution_count": null,
   "source": [
    "# submission 양식에 맞게 output 후처리\n",
    "prediction_strings = []\n",
    "file_names = []\n",
    "coco = COCO(cfg.data.test.ann_file)\n",
    "img_ids = coco.getImgIds()\n",
    "\n",
    "class_num = 10\n",
    "for i, out in enumerate(output):\n",
    "    prediction_string = ''\n",
    "    image_info = coco.loadImgs(coco.getImgIds(imgIds=i))[0]\n",
    "    for j in range(class_num):\n",
    "        for o in out[j]:\n",
    "            prediction_string += str(j) + ' ' + str(o[4]) + ' ' + str(o[0]) + ' ' + str(o[1]) + ' ' + str(\n",
    "                o[2]) + ' ' + str(o[3]) + ' '\n",
    "        \n",
    "    prediction_strings.append(prediction_string)\n",
    "    file_names.append(image_info['file_name'])\n",
    "\n",
    "\n",
    "submission = pd.DataFrame()\n",
    "submission['PredictionString'] = prediction_strings\n",
    "submission['image_id'] = file_names\n",
    "submission.to_csv(os.path.join(cfg.work_dir, f'submission_{epoch}.csv'), index=None)\n",
    "submission.head()"
   ],
   "outputs": [
    {
     "output_type": "stream",
     "name": "stdout",
     "text": [
      "loading annotations into memory...\n",
      "Done (t=0.09s)\n",
      "creating index...\n",
      "index created!\n"
     ]
    },
    {
     "output_type": "execute_result",
     "data": {
      "text/html": [
       "<div>\n",
       "<style scoped>\n",
       "    .dataframe tbody tr th:only-of-type {\n",
       "        vertical-align: middle;\n",
       "    }\n",
       "\n",
       "    .dataframe tbody tr th {\n",
       "        vertical-align: top;\n",
       "    }\n",
       "\n",
       "    .dataframe thead th {\n",
       "        text-align: right;\n",
       "    }\n",
       "</style>\n",
       "<table border=\"1\" class=\"dataframe\">\n",
       "  <thead>\n",
       "    <tr style=\"text-align: right;\">\n",
       "      <th></th>\n",
       "      <th>PredictionString</th>\n",
       "      <th>image_id</th>\n",
       "    </tr>\n",
       "  </thead>\n",
       "  <tbody>\n",
       "    <tr>\n",
       "      <th>0</th>\n",
       "      <td>0 0.9920799 205.10904 192.43288 753.3511 664.6...</td>\n",
       "      <td>train/0000.jpg</td>\n",
       "    </tr>\n",
       "    <tr>\n",
       "      <th>1</th>\n",
       "      <td>0 0.36404777 90.7512 596.98236 231.6218 655.42...</td>\n",
       "      <td>train/0001.jpg</td>\n",
       "    </tr>\n",
       "    <tr>\n",
       "      <th>2</th>\n",
       "      <td>3 0.997288 269.67545 160.44821 904.9413 679.5504</td>\n",
       "      <td>train/0002.jpg</td>\n",
       "    </tr>\n",
       "    <tr>\n",
       "      <th>3</th>\n",
       "      <td>0 0.610675 763.15424 25.278015 963.4322 428.73...</td>\n",
       "      <td>train/0003.jpg</td>\n",
       "    </tr>\n",
       "    <tr>\n",
       "      <th>4</th>\n",
       "      <td>0 0.33471763 7.134224 414.51746 136.36694 517....</td>\n",
       "      <td>train/0004.jpg</td>\n",
       "    </tr>\n",
       "  </tbody>\n",
       "</table>\n",
       "</div>"
      ],
      "text/plain": [
       "                                    PredictionString        image_id\n",
       "0  0 0.9920799 205.10904 192.43288 753.3511 664.6...  train/0000.jpg\n",
       "1  0 0.36404777 90.7512 596.98236 231.6218 655.42...  train/0001.jpg\n",
       "2  3 0.997288 269.67545 160.44821 904.9413 679.5504   train/0002.jpg\n",
       "3  0 0.610675 763.15424 25.278015 963.4322 428.73...  train/0003.jpg\n",
       "4  0 0.33471763 7.134224 414.51746 136.36694 517....  train/0004.jpg"
      ]
     },
     "metadata": {},
     "execution_count": 8
    }
   ],
   "metadata": {}
  },
  {
   "cell_type": "code",
   "execution_count": null,
   "source": [],
   "outputs": [],
   "metadata": {}
  }
 ],
 "metadata": {
  "kernelspec": {
   "display_name": "detection",
   "language": "python",
   "name": "detection"
  },
  "language_info": {
   "name": "python",
   "version": "3.7.11",
   "mimetype": "text/x-python",
   "codemirror_mode": {
    "name": "ipython",
    "version": 3
   },
   "pygments_lexer": "ipython3",
   "nbconvert_exporter": "python",
   "file_extension": ".py"
  }
 },
 "nbformat": 4,
 "nbformat_minor": 5
}